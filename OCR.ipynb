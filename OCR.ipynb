{
 "cells": [
  {
   "cell_type": "markdown",
   "metadata": {
    "id": "n1Hjgho3mVO8"
   },
   "source": [
    "# **OCR-Based-Document-Data-Extraction-System**"
   ]
  },
  {
   "cell_type": "markdown",
   "metadata": {
    "id": "pfwG5vJhmq6q"
   },
   "source": [
    "1. Mount Google Drive"
   ]
  },
  {
   "cell_type": "code",
   "execution_count": 1,
   "metadata": {
    "colab": {
     "base_uri": "https://localhost:8080/"
    },
    "id": "7tZIuI8JCqbE",
    "outputId": "2a2e2036-96a7-4ece-c4d0-d98e0040b25f"
   },
   "outputs": [
    {
     "name": "stdout",
     "output_type": "stream",
     "text": [
      "Drive already mounted at /content/drive; to attempt to forcibly remount, call drive.mount(\"/content/drive\", force_remount=True).\n"
     ]
    }
   ],
   "source": [
    "from google.colab import drive\n",
    "\n",
    "# Mount the Google Drive\n",
    "drive.mount('/content/drive')"
   ]
  },
  {
   "cell_type": "markdown",
   "metadata": {
    "id": "C0Mr2CoNofCt"
   },
   "source": [
    "2. Install the necessary libraries"
   ]
  },
  {
   "cell_type": "code",
   "execution_count": 3,
   "metadata": {
    "colab": {
     "base_uri": "https://localhost:8080/"
    },
    "id": "uJ2sSOAtpVBI",
    "outputId": "d4168a61-7c74-4ca4-aee6-de604ee4ba78"
   },
   "outputs": [
    {
     "name": "stdout",
     "output_type": "stream",
     "text": [
      "Requirement already satisfied: opencv-python-headless in /usr/local/lib/python3.10/dist-packages (4.10.0.84)\n",
      "Requirement already satisfied: pandas in /usr/local/lib/python3.10/dist-packages (2.1.4)\n",
      "Requirement already satisfied: openpyxl in /usr/local/lib/python3.10/dist-packages (3.1.5)\n",
      "Requirement already satisfied: numpy>=1.21.2 in /usr/local/lib/python3.10/dist-packages (from opencv-python-headless) (1.26.4)\n",
      "Requirement already satisfied: python-dateutil>=2.8.2 in /usr/local/lib/python3.10/dist-packages (from pandas) (2.8.2)\n",
      "Requirement already satisfied: pytz>=2020.1 in /usr/local/lib/python3.10/dist-packages (from pandas) (2024.1)\n",
      "Requirement already satisfied: tzdata>=2022.1 in /usr/local/lib/python3.10/dist-packages (from pandas) (2024.1)\n",
      "Requirement already satisfied: et-xmlfile in /usr/local/lib/python3.10/dist-packages (from openpyxl) (1.1.0)\n",
      "Requirement already satisfied: six>=1.5 in /usr/local/lib/python3.10/dist-packages (from python-dateutil>=2.8.2->pandas) (1.16.0)\n"
     ]
    }
   ],
   "source": [
    "!pip install opencv-python-headless pandas openpyxl"
   ]
  },
  {
   "cell_type": "code",
   "execution_count": 6,
   "metadata": {
    "colab": {
     "base_uri": "https://localhost:8080/"
    },
    "id": "3Cr2V1bjo5Hy",
    "outputId": "be018d9a-37b9-4694-b361-679bc97bddd1"
   },
   "outputs": [
    {
     "name": "stdout",
     "output_type": "stream",
     "text": [
      "Reading package lists... Done\n",
      "Building dependency tree... Done\n",
      "Reading state information... Done\n",
      "tesseract-ocr is already the newest version (4.1.1-2.1build1).\n",
      "0 upgraded, 0 newly installed, 0 to remove and 49 not upgraded.\n",
      "Reading package lists... Done\n",
      "Building dependency tree... Done\n",
      "Reading state information... Done\n",
      "libtesseract-dev is already the newest version (4.1.1-2.1build1).\n",
      "0 upgraded, 0 newly installed, 0 to remove and 49 not upgraded.\n"
     ]
    }
   ],
   "source": [
    "!apt-get install -y tesseract-ocr\n",
    "!apt-get install -y libtesseract-dev"
   ]
  },
  {
   "cell_type": "code",
   "execution_count": 5,
   "metadata": {
    "id": "qGBDnltIpJuO"
   },
   "outputs": [],
   "source": [
    "import os\n",
    "import cv2\n",
    "import pandas as pd\n",
    "import json"
   ]
  },
  {
   "cell_type": "markdown",
   "metadata": {
    "id": "-2eDbBvcm15g"
   },
   "source": [
    "3. Define the necessary paths"
   ]
  },
  {
   "cell_type": "code",
   "execution_count": 6,
   "metadata": {
    "id": "wMvgMcNelzJK"
   },
   "outputs": [],
   "source": [
    "images_folder = '/content/drive/MyDrive/Images'  # Path to images folder\n",
    "json_file_path = '/content/drive/MyDrive/filtered-data.json'  # Path to JSON file\n",
    "output_csv = '/content/Output.csv'  # Output CSV file path"
   ]
  },
  {
   "cell_type": "markdown",
   "metadata": {
    "id": "HePkzrX9nDSP"
   },
   "source": [
    "4. Load JSON data and define Template texts"
   ]
  },
  {
   "cell_type": "code",
   "execution_count": 25,
   "metadata": {
    "id": "oCxwtpZZmENv"
   },
   "outputs": [],
   "source": [
    "# Load JSON data\n",
    "with open(json_file_path, 'r') as json_file:\n",
    "    data = json.load(json_file)\n",
    "\n",
    "# Template text (can be expanded)(Hardcoded)\n",
    "template_texts = ['Republic','of', 'Estonia', 'Identity','Card', 'EESTI', 'VABARIK', 'ISIKUTUNNISTUS']\n",
    "\n",
    "# Initialize lists to store data\n",
    "rows = []"
   ]
  },
  {
   "cell_type": "markdown",
   "metadata": {
    "id": "Vpvvb7vsnl1u"
   },
   "source": [
    "5. Iterate through the JSON data and the images provided"
   ]
  },
  {
   "cell_type": "code",
   "execution_count": 41,
   "metadata": {
    "id": "S4PDKsAHmNQp"
   },
   "outputs": [],
   "source": [
    "# Iterate through the JSON data\n",
    "for idx, doc in data.items():\n",
    "    image_filename = doc.get(\"path\", \"\")\n",
    "    doc_type = doc.get(\"type\", \"\")\n",
    "    size = doc.get(\"size\", [0, 0])\n",
    "    ocr_data = doc.get(\"ocr\", {})\n",
    "\n",
    "    # Construct full image path\n",
    "    image_path = os.path.join(images_folder, image_filename + '.jpeg')\n",
    "    if not os.path.exists(image_path):\n",
    "        print(f\"Image not found: {image_path}\")\n",
    "        continue\n",
    "\n",
    "    # Load image\n",
    "    image = cv2.imread(image_path)\n",
    "    if image is None:\n",
    "        print(f\"Failed to load image: {image_path}\")\n",
    "        continue\n",
    "\n",
    "        # Process OCR data from JSON\n",
    "for text, coords in ocr_data.items():\n",
    "    # Determine label\n",
    "    label = 'unknown' if text in template_texts else 'user_data'\n",
    "\n",
    "    # Extract box coordinates from JSON and normalize them\n",
    "    x_coords = [c['x'] for c in coords]\n",
    "    y_coords = [c['y'] for c in coords]\n",
    "\n",
    "    # Calculate box dimensions (in original scale)\n",
    "    x_min, x_max = min(x_coords) * size[0], max(x_coords) * size[0]\n",
    "    y_min, y_max = min(y_coords) * size[1], max(y_coords) * size[1]\n",
    "    width = x_max - x_min\n",
    "    height = y_max - y_min\n",
    "\n",
    "    # Calculate width and height ratios\n",
    "    width_ratio = width / size[0] if size[0] else 0\n",
    "    height_ratio = height / size[1] if size[1] else 0\n",
    "\n",
    "    # Append the extracted data to the 'rows' list\n",
    "    rows.append({\n",
    "        \"Document Path\": image_path,\n",
    "        \"Label\": label,\n",
    "        \"Text\": text,\n",
    "        \"X Coordinates\": x_coords,\n",
    "        \"Y Coordinates\": y_coords,\n",
    "        \"Width\": width,\n",
    "        \"Height\": height,\n",
    "        \"Width Ratio\": width_ratio,\n",
    "        \"Height Ratio\": height_ratio,\n",
    "    })"
   ]
  },
  {
   "cell_type": "code",
   "execution_count": 42,
   "metadata": {
    "colab": {
     "base_uri": "https://localhost:8080/"
    },
    "id": "XUoZaR7FmR7T",
    "outputId": "97f0e396-ad2b-412f-a14f-08ca3bdd3f76"
   },
   "outputs": [
    {
     "name": "stdout",
     "output_type": "stream",
     "text": [
      "Preprocessing completed. Data saved to /content/Output_assessment.csv\n"
     ]
    }
   ],
   "source": [
    "# Create a DataFrame\n",
    "df = pd.DataFrame(rows)\n",
    "\n",
    "# Save to CSV\n",
    "df.to_csv(output_csv, index=False)\n",
    "\n",
    "print(f\"Preprocessing completed. Data saved to {output_csv}\")"
   ]
  }
 ],
 "metadata": {
  "colab": {
   "provenance": []
  },
  "kernelspec": {
   "display_name": "Python 3",
   "name": "python3"
  },
  "language_info": {
   "name": "python"
  }
 },
 "nbformat": 4,
 "nbformat_minor": 0
}
